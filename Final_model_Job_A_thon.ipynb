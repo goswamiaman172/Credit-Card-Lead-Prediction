{
  "nbformat": 4,
  "nbformat_minor": 0,
  "metadata": {
    "colab": {
      "name": "Final model_Job_A_thon.ipynb",
      "provenance": [],
      "collapsed_sections": [],
      "toc_visible": true,
      "authorship_tag": "ABX9TyOyzGdh+pAaT8gBXyvq68Fq",
      "include_colab_link": true
    },
    "kernelspec": {
      "name": "python3",
      "display_name": "Python 3"
    }
  },
  "cells": [
    {
      "cell_type": "markdown",
      "metadata": {
        "id": "view-in-github",
        "colab_type": "text"
      },
      "source": [
        "<a href=\"https://colab.research.google.com/github/goswamiaman172/Credit-Card-Lead-Prediction/blob/main/Final_model_Job_A_thon.ipynb\" target=\"_parent\"><img src=\"https://colab.research.google.com/assets/colab-badge.svg\" alt=\"Open In Colab\"/></a>"
      ]
    },
    {
      "cell_type": "markdown",
      "metadata": {
        "id": "qo_vjPIn8j88"
      },
      "source": [
        "**Credit Card Lead Prediction**\n",
        "\n",
        "\n",
        "Happy Customer Bank is a mid-sized private bank that deals in all kinds of banking products, like Savings accounts, Current accounts, investment products, credit products, among other offerings.\n",
        "\n",
        "\n",
        "\n",
        "The bank also cross-sells products to its existing customers and to do so they use different kinds of communication like tele-calling, e-mails, recommendations on net banking, mobile banking, etc. \n",
        "\n",
        "\n",
        "\n",
        "In this case, the Happy Customer Bank wants to cross sell its credit cards to its existing customers. The bank has identified a set of customers that are eligible for taking these credit cards.\n",
        "\n",
        "\n",
        "\n",
        "Now, the bank is looking for your help in identifying customers that could show higher intent towards a recommended credit card, given:\n",
        "\n",
        "Customer details (gender, age, region etc.)\n",
        "Details of his/her relationship with the bank (Channel_Code,Vintage, 'Avg_Asset_Value etc.)"
      ]
    },
    {
      "cell_type": "markdown",
      "metadata": {
        "id": "0ezoiXSGs-Wo"
      },
      "source": [
        " **Import Modules from Libraries**"
      ]
    },
    {
      "cell_type": "code",
      "metadata": {
        "id": "Bu4_7EoGhg1o"
      },
      "source": [
        "import pandas as pd\n",
        "import numpy as np\n",
        "import seaborn as sns\n",
        "import matplotlib.pyplot as plt\n",
        "%matplotlib inline"
      ],
      "execution_count": null,
      "outputs": []
    },
    {
      "cell_type": "code",
      "metadata": {
        "colab": {
          "base_uri": "https://localhost:8080/"
        },
        "id": "hGBOpHgliagm",
        "outputId": "41777f42-2ea7-4ffa-cc90-b5e8028110df"
      },
      "source": [
        "from google.colab import drive\n",
        "drive.mount('/content/drive')"
      ],
      "execution_count": null,
      "outputs": [
        {
          "output_type": "stream",
          "text": [
            "Drive already mounted at /content/drive; to attempt to forcibly remount, call drive.mount(\"/content/drive\", force_remount=True).\n"
          ],
          "name": "stdout"
        }
      ]
    },
    {
      "cell_type": "markdown",
      "metadata": {
        "id": "jcEeof_Ls2pX"
      },
      "source": [
        "**Import Dataset**"
      ]
    },
    {
      "cell_type": "code",
      "metadata": {
        "id": "ggFbC01FhgyF"
      },
      "source": [
        "df=pd.read_csv('/content/drive/MyDrive/Almabetter DataScience/Job A thon/data/train_s3TEQDk.csv')"
      ],
      "execution_count": null,
      "outputs": []
    },
    {
      "cell_type": "code",
      "metadata": {
        "id": "E7Xi2hDChgvo",
        "colab": {
          "base_uri": "https://localhost:8080/"
        },
        "outputId": "0e8ee4af-b302-4ffe-b54c-5e1038cda017"
      },
      "source": [
        "df.shape"
      ],
      "execution_count": null,
      "outputs": [
        {
          "output_type": "execute_result",
          "data": {
            "text/plain": [
              "(245725, 11)"
            ]
          },
          "metadata": {
            "tags": []
          },
          "execution_count": 42
        }
      ]
    },
    {
      "cell_type": "markdown",
      "metadata": {
        "id": "9O8HGOr_nXsl"
      },
      "source": [
        "**Preprocessing the data**"
      ]
    },
    {
      "cell_type": "code",
      "metadata": {
        "id": "tQU_Qmn8hglJ",
        "colab": {
          "base_uri": "https://localhost:8080/",
          "height": 224
        },
        "outputId": "a139eeb2-f1d5-48c8-b5a6-6540af0de646"
      },
      "source": [
        "df.head()"
      ],
      "execution_count": null,
      "outputs": [
        {
          "output_type": "execute_result",
          "data": {
            "text/html": [
              "<div>\n",
              "<style scoped>\n",
              "    .dataframe tbody tr th:only-of-type {\n",
              "        vertical-align: middle;\n",
              "    }\n",
              "\n",
              "    .dataframe tbody tr th {\n",
              "        vertical-align: top;\n",
              "    }\n",
              "\n",
              "    .dataframe thead th {\n",
              "        text-align: right;\n",
              "    }\n",
              "</style>\n",
              "<table border=\"1\" class=\"dataframe\">\n",
              "  <thead>\n",
              "    <tr style=\"text-align: right;\">\n",
              "      <th></th>\n",
              "      <th>ID</th>\n",
              "      <th>Gender</th>\n",
              "      <th>Age</th>\n",
              "      <th>Region_Code</th>\n",
              "      <th>Occupation</th>\n",
              "      <th>Channel_Code</th>\n",
              "      <th>Vintage</th>\n",
              "      <th>Credit_Product</th>\n",
              "      <th>Avg_Account_Balance</th>\n",
              "      <th>Is_Active</th>\n",
              "      <th>Is_Lead</th>\n",
              "    </tr>\n",
              "  </thead>\n",
              "  <tbody>\n",
              "    <tr>\n",
              "      <th>0</th>\n",
              "      <td>NNVBBKZB</td>\n",
              "      <td>Female</td>\n",
              "      <td>73</td>\n",
              "      <td>RG268</td>\n",
              "      <td>Other</td>\n",
              "      <td>X3</td>\n",
              "      <td>43</td>\n",
              "      <td>No</td>\n",
              "      <td>1045696</td>\n",
              "      <td>No</td>\n",
              "      <td>0</td>\n",
              "    </tr>\n",
              "    <tr>\n",
              "      <th>1</th>\n",
              "      <td>IDD62UNG</td>\n",
              "      <td>Female</td>\n",
              "      <td>30</td>\n",
              "      <td>RG277</td>\n",
              "      <td>Salaried</td>\n",
              "      <td>X1</td>\n",
              "      <td>32</td>\n",
              "      <td>No</td>\n",
              "      <td>581988</td>\n",
              "      <td>No</td>\n",
              "      <td>0</td>\n",
              "    </tr>\n",
              "    <tr>\n",
              "      <th>2</th>\n",
              "      <td>HD3DSEMC</td>\n",
              "      <td>Female</td>\n",
              "      <td>56</td>\n",
              "      <td>RG268</td>\n",
              "      <td>Self_Employed</td>\n",
              "      <td>X3</td>\n",
              "      <td>26</td>\n",
              "      <td>No</td>\n",
              "      <td>1484315</td>\n",
              "      <td>Yes</td>\n",
              "      <td>0</td>\n",
              "    </tr>\n",
              "    <tr>\n",
              "      <th>3</th>\n",
              "      <td>BF3NC7KV</td>\n",
              "      <td>Male</td>\n",
              "      <td>34</td>\n",
              "      <td>RG270</td>\n",
              "      <td>Salaried</td>\n",
              "      <td>X1</td>\n",
              "      <td>19</td>\n",
              "      <td>No</td>\n",
              "      <td>470454</td>\n",
              "      <td>No</td>\n",
              "      <td>0</td>\n",
              "    </tr>\n",
              "    <tr>\n",
              "      <th>4</th>\n",
              "      <td>TEASRWXV</td>\n",
              "      <td>Female</td>\n",
              "      <td>30</td>\n",
              "      <td>RG282</td>\n",
              "      <td>Salaried</td>\n",
              "      <td>X1</td>\n",
              "      <td>33</td>\n",
              "      <td>No</td>\n",
              "      <td>886787</td>\n",
              "      <td>No</td>\n",
              "      <td>0</td>\n",
              "    </tr>\n",
              "  </tbody>\n",
              "</table>\n",
              "</div>"
            ],
            "text/plain": [
              "         ID  Gender  Age  ... Avg_Account_Balance Is_Active Is_Lead\n",
              "0  NNVBBKZB  Female   73  ...             1045696        No       0\n",
              "1  IDD62UNG  Female   30  ...              581988        No       0\n",
              "2  HD3DSEMC  Female   56  ...             1484315       Yes       0\n",
              "3  BF3NC7KV    Male   34  ...              470454        No       0\n",
              "4  TEASRWXV  Female   30  ...              886787        No       0\n",
              "\n",
              "[5 rows x 11 columns]"
            ]
          },
          "metadata": {
            "tags": []
          },
          "execution_count": 43
        }
      ]
    },
    {
      "cell_type": "code",
      "metadata": {
        "id": "JHVZYVJlhgaU",
        "colab": {
          "base_uri": "https://localhost:8080/",
          "height": 204
        },
        "outputId": "02bf4128-8140-4b54-8053-09574ee94637"
      },
      "source": [
        "df.tail()"
      ],
      "execution_count": null,
      "outputs": [
        {
          "output_type": "execute_result",
          "data": {
            "text/html": [
              "<div>\n",
              "<style scoped>\n",
              "    .dataframe tbody tr th:only-of-type {\n",
              "        vertical-align: middle;\n",
              "    }\n",
              "\n",
              "    .dataframe tbody tr th {\n",
              "        vertical-align: top;\n",
              "    }\n",
              "\n",
              "    .dataframe thead th {\n",
              "        text-align: right;\n",
              "    }\n",
              "</style>\n",
              "<table border=\"1\" class=\"dataframe\">\n",
              "  <thead>\n",
              "    <tr style=\"text-align: right;\">\n",
              "      <th></th>\n",
              "      <th>ID</th>\n",
              "      <th>Gender</th>\n",
              "      <th>Age</th>\n",
              "      <th>Region_Code</th>\n",
              "      <th>Occupation</th>\n",
              "      <th>Channel_Code</th>\n",
              "      <th>Vintage</th>\n",
              "      <th>Credit_Product</th>\n",
              "      <th>Avg_Account_Balance</th>\n",
              "      <th>Is_Active</th>\n",
              "      <th>Is_Lead</th>\n",
              "    </tr>\n",
              "  </thead>\n",
              "  <tbody>\n",
              "    <tr>\n",
              "      <th>245720</th>\n",
              "      <td>BPAWWXZN</td>\n",
              "      <td>Male</td>\n",
              "      <td>51</td>\n",
              "      <td>RG284</td>\n",
              "      <td>Self_Employed</td>\n",
              "      <td>X3</td>\n",
              "      <td>109</td>\n",
              "      <td>NaN</td>\n",
              "      <td>1925586</td>\n",
              "      <td>No</td>\n",
              "      <td>0</td>\n",
              "    </tr>\n",
              "    <tr>\n",
              "      <th>245721</th>\n",
              "      <td>HFNB7JY8</td>\n",
              "      <td>Male</td>\n",
              "      <td>27</td>\n",
              "      <td>RG268</td>\n",
              "      <td>Salaried</td>\n",
              "      <td>X1</td>\n",
              "      <td>15</td>\n",
              "      <td>No</td>\n",
              "      <td>862952</td>\n",
              "      <td>Yes</td>\n",
              "      <td>0</td>\n",
              "    </tr>\n",
              "    <tr>\n",
              "      <th>245722</th>\n",
              "      <td>GEHAUCWT</td>\n",
              "      <td>Female</td>\n",
              "      <td>26</td>\n",
              "      <td>RG281</td>\n",
              "      <td>Salaried</td>\n",
              "      <td>X1</td>\n",
              "      <td>13</td>\n",
              "      <td>No</td>\n",
              "      <td>670659</td>\n",
              "      <td>No</td>\n",
              "      <td>0</td>\n",
              "    </tr>\n",
              "    <tr>\n",
              "      <th>245723</th>\n",
              "      <td>GE7V8SAH</td>\n",
              "      <td>Female</td>\n",
              "      <td>28</td>\n",
              "      <td>RG273</td>\n",
              "      <td>Salaried</td>\n",
              "      <td>X1</td>\n",
              "      <td>31</td>\n",
              "      <td>No</td>\n",
              "      <td>407504</td>\n",
              "      <td>No</td>\n",
              "      <td>0</td>\n",
              "    </tr>\n",
              "    <tr>\n",
              "      <th>245724</th>\n",
              "      <td>BOCZSWLJ</td>\n",
              "      <td>Male</td>\n",
              "      <td>29</td>\n",
              "      <td>RG269</td>\n",
              "      <td>Salaried</td>\n",
              "      <td>X1</td>\n",
              "      <td>21</td>\n",
              "      <td>No</td>\n",
              "      <td>1129276</td>\n",
              "      <td>No</td>\n",
              "      <td>0</td>\n",
              "    </tr>\n",
              "  </tbody>\n",
              "</table>\n",
              "</div>"
            ],
            "text/plain": [
              "              ID  Gender  Age  ... Avg_Account_Balance Is_Active Is_Lead\n",
              "245720  BPAWWXZN    Male   51  ...             1925586        No       0\n",
              "245721  HFNB7JY8    Male   27  ...              862952       Yes       0\n",
              "245722  GEHAUCWT  Female   26  ...              670659        No       0\n",
              "245723  GE7V8SAH  Female   28  ...              407504        No       0\n",
              "245724  BOCZSWLJ    Male   29  ...             1129276        No       0\n",
              "\n",
              "[5 rows x 11 columns]"
            ]
          },
          "metadata": {
            "tags": []
          },
          "execution_count": 40
        }
      ]
    },
    {
      "cell_type": "code",
      "metadata": {
        "colab": {
          "base_uri": "https://localhost:8080/"
        },
        "id": "wiy-v10znrwu",
        "outputId": "866d3895-371a-4711-a190-f5179177be09"
      },
      "source": [
        "df.info()"
      ],
      "execution_count": null,
      "outputs": [
        {
          "output_type": "stream",
          "text": [
            "<class 'pandas.core.frame.DataFrame'>\n",
            "RangeIndex: 245725 entries, 0 to 245724\n",
            "Data columns (total 11 columns):\n",
            " #   Column               Non-Null Count   Dtype \n",
            "---  ------               --------------   ----- \n",
            " 0   ID                   245725 non-null  object\n",
            " 1   Gender               245725 non-null  object\n",
            " 2   Age                  245725 non-null  int64 \n",
            " 3   Region_Code          245725 non-null  object\n",
            " 4   Occupation           245725 non-null  object\n",
            " 5   Channel_Code         245725 non-null  object\n",
            " 6   Vintage              245725 non-null  int64 \n",
            " 7   Credit_Product       216400 non-null  object\n",
            " 8   Avg_Account_Balance  245725 non-null  int64 \n",
            " 9   Is_Active            245725 non-null  object\n",
            " 10  Is_Lead              245725 non-null  int64 \n",
            "dtypes: int64(4), object(7)\n",
            "memory usage: 20.6+ MB\n"
          ],
          "name": "stdout"
        }
      ]
    },
    {
      "cell_type": "code",
      "metadata": {
        "colab": {
          "base_uri": "https://localhost:8080/",
          "height": 297
        },
        "id": "cnkN88PrnruP",
        "outputId": "17615e5b-d71d-4b3c-8358-b5b48f22369a"
      },
      "source": [
        "# statistical info\n",
        "df.describe()"
      ],
      "execution_count": null,
      "outputs": [
        {
          "output_type": "execute_result",
          "data": {
            "text/html": [
              "<div>\n",
              "<style scoped>\n",
              "    .dataframe tbody tr th:only-of-type {\n",
              "        vertical-align: middle;\n",
              "    }\n",
              "\n",
              "    .dataframe tbody tr th {\n",
              "        vertical-align: top;\n",
              "    }\n",
              "\n",
              "    .dataframe thead th {\n",
              "        text-align: right;\n",
              "    }\n",
              "</style>\n",
              "<table border=\"1\" class=\"dataframe\">\n",
              "  <thead>\n",
              "    <tr style=\"text-align: right;\">\n",
              "      <th></th>\n",
              "      <th>Age</th>\n",
              "      <th>Vintage</th>\n",
              "      <th>Avg_Account_Balance</th>\n",
              "      <th>Is_Lead</th>\n",
              "    </tr>\n",
              "  </thead>\n",
              "  <tbody>\n",
              "    <tr>\n",
              "      <th>count</th>\n",
              "      <td>245725.000000</td>\n",
              "      <td>245725.000000</td>\n",
              "      <td>2.457250e+05</td>\n",
              "      <td>245725.000000</td>\n",
              "    </tr>\n",
              "    <tr>\n",
              "      <th>mean</th>\n",
              "      <td>43.856307</td>\n",
              "      <td>46.959141</td>\n",
              "      <td>1.128403e+06</td>\n",
              "      <td>0.237208</td>\n",
              "    </tr>\n",
              "    <tr>\n",
              "      <th>std</th>\n",
              "      <td>14.828672</td>\n",
              "      <td>32.353136</td>\n",
              "      <td>8.529364e+05</td>\n",
              "      <td>0.425372</td>\n",
              "    </tr>\n",
              "    <tr>\n",
              "      <th>min</th>\n",
              "      <td>23.000000</td>\n",
              "      <td>7.000000</td>\n",
              "      <td>2.079000e+04</td>\n",
              "      <td>0.000000</td>\n",
              "    </tr>\n",
              "    <tr>\n",
              "      <th>25%</th>\n",
              "      <td>30.000000</td>\n",
              "      <td>20.000000</td>\n",
              "      <td>6.043100e+05</td>\n",
              "      <td>0.000000</td>\n",
              "    </tr>\n",
              "    <tr>\n",
              "      <th>50%</th>\n",
              "      <td>43.000000</td>\n",
              "      <td>32.000000</td>\n",
              "      <td>8.946010e+05</td>\n",
              "      <td>0.000000</td>\n",
              "    </tr>\n",
              "    <tr>\n",
              "      <th>75%</th>\n",
              "      <td>54.000000</td>\n",
              "      <td>73.000000</td>\n",
              "      <td>1.366666e+06</td>\n",
              "      <td>0.000000</td>\n",
              "    </tr>\n",
              "    <tr>\n",
              "      <th>max</th>\n",
              "      <td>85.000000</td>\n",
              "      <td>135.000000</td>\n",
              "      <td>1.035201e+07</td>\n",
              "      <td>1.000000</td>\n",
              "    </tr>\n",
              "  </tbody>\n",
              "</table>\n",
              "</div>"
            ],
            "text/plain": [
              "                 Age        Vintage  Avg_Account_Balance        Is_Lead\n",
              "count  245725.000000  245725.000000         2.457250e+05  245725.000000\n",
              "mean       43.856307      46.959141         1.128403e+06       0.237208\n",
              "std        14.828672      32.353136         8.529364e+05       0.425372\n",
              "min        23.000000       7.000000         2.079000e+04       0.000000\n",
              "25%        30.000000      20.000000         6.043100e+05       0.000000\n",
              "50%        43.000000      32.000000         8.946010e+05       0.000000\n",
              "75%        54.000000      73.000000         1.366666e+06       0.000000\n",
              "max        85.000000     135.000000         1.035201e+07       1.000000"
            ]
          },
          "metadata": {
            "tags": []
          },
          "execution_count": 42
        }
      ]
    },
    {
      "cell_type": "markdown",
      "metadata": {
        "id": "ug1L0Lc7n5EW"
      },
      "source": [
        "# **Data Inspecting and Cleaning**"
      ]
    },
    {
      "cell_type": "markdown",
      "metadata": {
        "id": "AISFUO5gn8KT"
      },
      "source": [
        "**Checking Null values**"
      ]
    },
    {
      "cell_type": "code",
      "metadata": {
        "colab": {
          "base_uri": "https://localhost:8080/"
        },
        "id": "2xwktpZJnrrb",
        "outputId": "dcadba5e-bb28-47ec-fdf1-b5e87b430c12"
      },
      "source": [
        "df.isnull().sum()"
      ],
      "execution_count": null,
      "outputs": [
        {
          "output_type": "execute_result",
          "data": {
            "text/plain": [
              "ID                         0\n",
              "Gender                     0\n",
              "Age                        0\n",
              "Region_Code                0\n",
              "Occupation                 0\n",
              "Channel_Code               0\n",
              "Vintage                    0\n",
              "Credit_Product         29325\n",
              "Avg_Account_Balance        0\n",
              "Is_Active                  0\n",
              "Is_Lead                    0\n",
              "dtype: int64"
            ]
          },
          "metadata": {
            "tags": []
          },
          "execution_count": 44
        }
      ]
    },
    {
      "cell_type": "code",
      "metadata": {
        "colab": {
          "base_uri": "https://localhost:8080/"
        },
        "id": "4HK2qRS7nrom",
        "outputId": "672339b8-5aff-4290-b60e-e28921df827f"
      },
      "source": [
        "df['Credit_Product'].value_counts()"
      ],
      "execution_count": null,
      "outputs": [
        {
          "output_type": "execute_result",
          "data": {
            "text/plain": [
              "No     144357\n",
              "Yes     72043\n",
              "Name: Credit_Product, dtype: int64"
            ]
          },
          "metadata": {
            "tags": []
          },
          "execution_count": 45
        }
      ]
    },
    {
      "cell_type": "code",
      "metadata": {
        "colab": {
          "base_uri": "https://localhost:8080/",
          "height": 449
        },
        "id": "B9-WY9d3nrld",
        "outputId": "05a06ee1-e62d-41d3-a7a9-700c54357b4c"
      },
      "source": [
        "#Checking for null values present in Data\n",
        "df.isnull().sum().plot(figsize=(9,6),kind='bar')\n",
        "plt.xticks(rotation=45)\n",
        "plt.show()"
      ],
      "execution_count": null,
      "outputs": [
        {
          "output_type": "display_data",
          "data": {
            "image/png": "[encoded data removed]",
            "text/plain": [
              "<Figure size 648x432 with 1 Axes>"
            ]
          },
          "metadata": {
            "tags": [],
            "needs_background": "light"
          }
        }
      ]
    },
    {
      "cell_type": "code",
      "metadata": {
        "colab": {
          "base_uri": "https://localhost:8080/"
        },
        "id": "3cIprFERnrjQ",
        "outputId": "63920a71-bbb8-441a-e02d-523b835e315f"
      },
      "source": [
        "df.duplicated().sum()"
      ],
      "execution_count": null,
      "outputs": [
        {
          "output_type": "execute_result",
          "data": {
            "text/plain": [
              "0"
            ]
          },
          "metadata": {
            "tags": []
          },
          "execution_count": 47
        }
      ]
    },
    {
      "cell_type": "code",
      "metadata": {
        "colab": {
          "base_uri": "https://localhost:8080/",
          "height": 496
        },
        "id": "1PE0N6eGnrbV",
        "outputId": "7c255598-aa02-49e9-ee5d-b87403009b72"
      },
      "source": [
        "plt.figure(figsize=(20,10), facecolor='w')\n",
        "sns.boxplot(data=df)\n",
        "plt.show()"
      ],
      "execution_count": null,
      "outputs": [
        {
          "output_type": "display_data",
          "data": {
            "image/png": "[encoded data removed]",
            "text/plain": [
              "<Figure size 1440x720 with 1 Axes>"
            ]
          },
          "metadata": {
            "tags": []
          }
        }
      ]
    },
    {
      "cell_type": "markdown",
      "metadata": {
        "id": "cw1AB7ikp6oI"
      },
      "source": [
        "# **Exploratory Data Analysis**"
      ]
    },
    {
      "cell_type": "code",
      "metadata": {
        "colab": {
          "base_uri": "https://localhost:8080/",
          "height": 564
        },
        "id": "roKZGshypbdF",
        "outputId": "9f901c01-5f4a-498b-af39-4de056ea7214"
      },
      "source": [
        "cormat=df.corr()\n",
        "top_corr_features=cormat.index\n",
        "plt.figure(figsize=(20,10))\n",
        "sns.heatmap(abs(df[top_corr_features].corr()),cmap='coolwarm',annot=True,annot_kws={'size':15})"
      ],
      "execution_count": null,
      "outputs": [
        {
          "output_type": "execute_result",
          "data": {
            "text/plain": [
              "<matplotlib.axes._subplots.AxesSubplot at 0x7fb9fe15ec90>"
            ]
          },
          "metadata": {
            "tags": []
          },
          "execution_count": 48
        },
        {
          "output_type": "display_data",
          "data": {
            "image/png": "[encoded data removed]",
            "text/plain": [
              "<Figure size 1440x720 with 2 Axes>"
            ]
          },
          "metadata": {
            "tags": [],
            "needs_background": "light"
          }
        }
      ]
    },
    {
      "cell_type": "code",
      "metadata": {
        "id": "nXgT5fZsqqWR"
      },
      "source": [
        "categorical_features = ['Gender', 'Region_Code', 'Occupation', 'Channel_Code', 'Credit_Product', 'Is_Active']"
      ],
      "execution_count": null,
      "outputs": []
    },
    {
      "cell_type": "code",
      "metadata": {
        "colab": {
          "base_uri": "https://localhost:8080/"
        },
        "id": "bT86UyJKqATP",
        "outputId": "bc700841-e3e1-4f04-ac54-888bd1d5f0ae"
      },
      "source": [
        "for feature in categorical_features:\n",
        "    print(feature,':')\n",
        "    print(df[feature].value_counts())\n",
        "    print(\"-----------------\")"
      ],
      "execution_count": null,
      "outputs": [
        {
          "output_type": "stream",
          "text": [
            "Gender :\n",
            "Male      134197\n",
            "Female    111528\n",
            "Name: Gender, dtype: int64\n",
            "-----------------\n",
            "Region_Code :\n",
            "RG268    35934\n",
            "RG283    29416\n",
            "RG254    26840\n",
            "RG284    19320\n",
            "RG277    12826\n",
            "RG280    12775\n",
            "RG269     7863\n",
            "RG270     7720\n",
            "RG261     7633\n",
            "RG257     6101\n",
            "RG251     5950\n",
            "RG282     5829\n",
            "RG274     5286\n",
            "RG272     5252\n",
            "RG281     5093\n",
            "RG273     4497\n",
            "RG252     4286\n",
            "RG279     3976\n",
            "RG263     3687\n",
            "RG275     3245\n",
            "RG260     3110\n",
            "RG256     2847\n",
            "RG264     2793\n",
            "RG276     2764\n",
            "RG259     2586\n",
            "RG250     2496\n",
            "RG255     2018\n",
            "RG258     1951\n",
            "RG253     1858\n",
            "RG278     1822\n",
            "RG262     1788\n",
            "RG266     1578\n",
            "RG265     1546\n",
            "RG271     1542\n",
            "RG267     1497\n",
            "Name: Region_Code, dtype: int64\n",
            "-----------------\n",
            "Occupation :\n",
            "Self_Employed    100886\n",
            "Salaried          71999\n",
            "Other             70173\n",
            "Entrepreneur       2667\n",
            "Name: Occupation, dtype: int64\n",
            "-----------------\n",
            "Channel_Code :\n",
            "X1    103718\n",
            "X3     68712\n",
            "X2     67726\n",
            "X4      5569\n",
            "Name: Channel_Code, dtype: int64\n",
            "-----------------\n",
            "Credit_Product :\n",
            "No     144357\n",
            "Yes     72043\n",
            "Name: Credit_Product, dtype: int64\n",
            "-----------------\n",
            "Is_Active :\n",
            "No     150290\n",
            "Yes     95435\n",
            "Name: Is_Active, dtype: int64\n",
            "-----------------\n"
          ],
          "name": "stdout"
        }
      ]
    },
    {
      "cell_type": "code",
      "metadata": {
        "colab": {
          "base_uri": "https://localhost:8080/",
          "height": 1862
        },
        "id": "0AYlVMnVrQzE",
        "outputId": "041b51d3-662e-495d-a304-04013e9cfb16"
      },
      "source": [
        "num_plots = len(categorical_features)\n",
        "total_cols = 2\n",
        "total_rows = num_plots//total_cols + 1\n",
        "fig, axs = plt.subplots(nrows=total_rows, ncols=total_cols,\n",
        "                        figsize=(7*total_cols, 7*total_rows), facecolor='w', constrained_layout=True)\n",
        "for i, var in enumerate(categorical_features):\n",
        "    row = i//total_cols\n",
        "    pos = i % total_cols\n",
        "    plot = sns.countplot(x=var, data=df, ax=axs[row][pos])"
      ],
      "execution_count": null,
      "outputs": [
        {
          "output_type": "display_data",
          "data": {
            "image/png": "[encoded data removed]",
            "text/plain": [
              "<Figure size 1008x2016 with 8 Axes>"
            ]
          },
          "metadata": {
            "tags": []
          }
        }
      ]
    },
    {
      "cell_type": "code",
      "metadata": {
        "colab": {
          "base_uri": "https://localhost:8080/",
          "height": 1744
        },
        "id": "x2kxvgjxr5FS",
        "outputId": "86a7a648-e2d7-481d-d2fc-ade19f86d983"
      },
      "source": [
        "numeric_features = ['Age', 'Vintage', 'Avg_Account_Balance']\n",
        "for feature in numeric_features:\n",
        "    plt.figure(figsize=(18, 10), facecolor='w')\n",
        "    sns.distplot(df[feature])\n",
        "    plt.title('{} Distribution'.format(feature), fontsize=20)\n",
        "    plt.show()"
      ],
      "execution_count": null,
      "outputs": [
        {
          "output_type": "stream",
          "text": [
            "/usr/local/lib/python3.7/dist-packages/seaborn/distributions.py:2557: FutureWarning: `distplot` is a deprecated function and will be removed in a future version. Please adapt your code to use either `displot` (a figure-level function with similar flexibility) or `histplot` (an axes-level function for histograms).\n",
            "  warnings.warn(msg, FutureWarning)\n"
          ],
          "name": "stderr"
        },
        {
          "output_type": "display_data",
          "data": {
            "image/png": "[encoded data removed]",
            "text/plain": [
              "<Figure size 1296x720 with 1 Axes>"
            ]
          },
          "metadata": {
            "tags": []
          }
        },
        {
          "output_type": "stream",
          "text": [
            "/usr/local/lib/python3.7/dist-packages/seaborn/distributions.py:2557: FutureWarning: `distplot` is a deprecated function and will be removed in a future version. Please adapt your code to use either `displot` (a figure-level function with similar flexibility) or `histplot` (an axes-level function for histograms).\n",
            "  warnings.warn(msg, FutureWarning)\n"
          ],
          "name": "stderr"
        },
        {
          "output_type": "display_data",
          "data": {
            "image/png": "[encoded data removed]",
            "text/plain": [
              "<Figure size 1296x720 with 1 Axes>"
            ]
          },
          "metadata": {
            "tags": []
          }
        },
        {
          "output_type": "stream",
          "text": [
            "/usr/local/lib/python3.7/dist-packages/seaborn/distributions.py:2557: FutureWarning: `distplot` is a deprecated function and will be removed in a future version. Please adapt your code to use either `displot` (a figure-level function with similar flexibility) or `histplot` (an axes-level function for histograms).\n",
            "  warnings.warn(msg, FutureWarning)\n"
          ],
          "name": "stderr"
        },
        {
          "output_type": "display_data",
          "data": {
            "image/png": "[encoded data removed]",
            "text/plain": [
              "<Figure size 1296x720 with 1 Axes>"
            ]
          },
          "metadata": {
            "tags": []
          }
        }
      ]
    },
    {
      "cell_type": "code",
      "metadata": {
        "colab": {
          "base_uri": "https://localhost:8080/"
        },
        "id": "EyM1ihfJsIiJ",
        "outputId": "5858e442-ae7f-4880-c7ff-ab38d9a328c9"
      },
      "source": [
        "df.info()"
      ],
      "execution_count": null,
      "outputs": [
        {
          "output_type": "stream",
          "text": [
            "<class 'pandas.core.frame.DataFrame'>\n",
            "RangeIndex: 245725 entries, 0 to 245724\n",
            "Data columns (total 11 columns):\n",
            " #   Column               Non-Null Count   Dtype \n",
            "---  ------               --------------   ----- \n",
            " 0   ID                   245725 non-null  object\n",
            " 1   Gender               245725 non-null  object\n",
            " 2   Age                  245725 non-null  int64 \n",
            " 3   Region_Code          245725 non-null  object\n",
            " 4   Occupation           245725 non-null  object\n",
            " 5   Channel_Code         245725 non-null  object\n",
            " 6   Vintage              245725 non-null  int64 \n",
            " 7   Credit_Product       216400 non-null  object\n",
            " 8   Avg_Account_Balance  245725 non-null  int64 \n",
            " 9   Is_Active            245725 non-null  object\n",
            " 10  Is_Lead              245725 non-null  int64 \n",
            "dtypes: int64(4), object(7)\n",
            "memory usage: 20.6+ MB\n"
          ],
          "name": "stdout"
        }
      ]
    },
    {
      "cell_type": "markdown",
      "metadata": {
        "id": "n3Ygyp0J4zRC"
      },
      "source": [
        "See that Target Variable is highly Imbalance"
      ]
    },
    {
      "cell_type": "code",
      "metadata": {
        "colab": {
          "base_uri": "https://localhost:8080/",
          "height": 473
        },
        "id": "a0_jWSLxsJxy",
        "outputId": "36629d17-7ac9-433a-c6aa-486b6abee0eb"
      },
      "source": [
        "#Distribution of outcome variable, Heart Disease\n",
        "plt.figure(figsize=(12, 10), facecolor='w')\n",
        "plt.subplots_adjust(right=1.5)\n",
        "plt.subplot(121)\n",
        "sns.countplot(x=\"Is_Lead\", data=df)\n",
        "plt.title(\"Count distribution of Is_Lead\", size=20)\n",
        "plt.subplot(122)\n",
        "labels=[0,1]\n",
        "plt.pie(df[\"Is_Lead\"].value_counts(),autopct=\"%1.1f%%\",labels=labels,colors=[\"lime\",\"red\"])\n",
        "plt.show()"
      ],
      "execution_count": null,
      "outputs": [
        {
          "output_type": "display_data",
          "data": {
            "image/png": "[encoded data removed]",
            "text/plain": [
              "<Figure size 864x720 with 2 Axes>"
            ]
          },
          "metadata": {
            "tags": []
          }
        }
      ]
    },
    {
      "cell_type": "markdown",
      "metadata": {
        "id": "-pUKUuJ3sxok"
      },
      "source": [
        "The distribution is highly imbalanced. As in, the number of negative cases outweigh the number of positive cases. This would lead to class imbalance problem while fitting our models. Therefore, this problem needs to be addressed and taken care of."
      ]
    },
    {
      "cell_type": "markdown",
      "metadata": {
        "id": "gilK7hrE4nU8"
      },
      "source": [
        "**Bivariate analysis**"
      ]
    },
    {
      "cell_type": "code",
      "metadata": {
        "id": "1R-dLBr1sjs3"
      },
      "source": [
        "#checking for which gender has more risk of coronary heart disease CHD\n",
        "\n",
        "graph_2 = df.groupby(\"Gender\", as_index=False).Is_Lead.sum()"
      ],
      "execution_count": null,
      "outputs": []
    },
    {
      "cell_type": "code",
      "metadata": {
        "colab": {
          "base_uri": "https://localhost:8080/",
          "height": 555
        },
        "id": "zOZkLH_q42Yx",
        "outputId": "7b88724e-44fd-4390-f4bd-f035e4e98dcb"
      },
      "source": [
        "#Ploting the above values\n",
        "\n",
        "plt.figure(figsize=(12,8), facecolor='w')\n",
        "sns.barplot(x=graph_2[\"Gender\"], y=graph_2[\"Is_Lead\"])\n",
        "plt.title(\"Graph showing which Id lead\", size=20)\n",
        "plt.ylabel(\"Is_Lead cases\", size=20)\n",
        "plt.xticks(size=12)\n",
        "plt.yticks(size=12)"
      ],
      "execution_count": null,
      "outputs": [
        {
          "output_type": "execute_result",
          "data": {
            "text/plain": [
              "(array([    0.,  5000., 10000., 15000., 20000., 25000., 30000., 35000.,\n",
              "        40000.]), <a list of 9 Text major ticklabel objects>)"
            ]
          },
          "metadata": {
            "tags": []
          },
          "execution_count": 56
        },
        {
          "output_type": "display_data",
          "data": {
            "image/png": "[encoded data removed]",
            "text/plain": [
              "<Figure size 864x576 with 1 Axes>"
            ]
          },
          "metadata": {
            "tags": []
          }
        }
      ]
    },
    {
      "cell_type": "markdown",
      "metadata": {
        "id": "7LV0IWt75os6"
      },
      "source": [
        "# **SAMPLING**"
      ]
    },
    {
      "cell_type": "markdown",
      "metadata": {
        "id": "OEq3X3RV55oo"
      },
      "source": [
        "**Resampling imbalanced data which is our target variable in the dataset by oversampling positive cases**"
      ]
    },
    {
      "cell_type": "code",
      "metadata": {
        "id": "-GDTkLJj4pp4"
      },
      "source": [
        "target1=df[df['Is_Lead']==1]\n",
        "target0=df[df['Is_Lead']==0]"
      ],
      "execution_count": null,
      "outputs": []
    },
    {
      "cell_type": "code",
      "metadata": {
        "id": "gCeaHjVu5_bQ"
      },
      "source": [
        "from sklearn.utils import resample\n",
        "target1=resample(target1,replace=True,n_samples=len(target0),random_state=40)"
      ],
      "execution_count": null,
      "outputs": []
    },
    {
      "cell_type": "code",
      "metadata": {
        "id": "SIINdFAZ6CGF"
      },
      "source": [
        "target=pd.concat([target0,target1])"
      ],
      "execution_count": null,
      "outputs": []
    },
    {
      "cell_type": "code",
      "metadata": {
        "colab": {
          "base_uri": "https://localhost:8080/"
        },
        "id": "49DjGYOG6CC4",
        "outputId": "b509bc57-25e9-4a29-bbf2-8fdca484c41f"
      },
      "source": [
        "target['Is_Lead'].value_counts()"
      ],
      "execution_count": null,
      "outputs": [
        {
          "output_type": "execute_result",
          "data": {
            "text/plain": [
              "1    187437\n",
              "0    187437\n",
              "Name: Is_Lead, dtype: int64"
            ]
          },
          "metadata": {
            "tags": []
          },
          "execution_count": 122
        }
      ]
    },
    {
      "cell_type": "code",
      "metadata": {
        "colab": {
          "base_uri": "https://localhost:8080/"
        },
        "id": "WgT5-kxj6B_e",
        "outputId": "91492fea-b248-4ddb-c21f-9680aaa323c2"
      },
      "source": [
        "df=target\n",
        "np.shape(df)"
      ],
      "execution_count": null,
      "outputs": [
        {
          "output_type": "execute_result",
          "data": {
            "text/plain": [
              "(374874, 11)"
            ]
          },
          "metadata": {
            "tags": []
          },
          "execution_count": 123
        }
      ]
    },
    {
      "cell_type": "code",
      "metadata": {
        "colab": {
          "base_uri": "https://localhost:8080/",
          "height": 473
        },
        "id": "FmqWzRJH6B77",
        "outputId": "b14580a8-3f73-43e9-b6fe-71f77d5d6394"
      },
      "source": [
        "#Distribution of heart disease cases in the balanced dataset, the outcome variable\n",
        "plt.figure(figsize=(12, 10), facecolor='w')\n",
        "plt.subplots_adjust(right=1.5)\n",
        "plt.subplot(121)\n",
        "sns.countplot(x=\"Is_Lead\", data=df)\n",
        "plt.title(\"Count of Is_Lead column\", size=20)\n",
        "plt.subplot(122)\n",
        "labels=[0,1]\n",
        "plt.pie(df[\"Is_Lead\"].value_counts(),autopct=\"%1.1f%%\",labels=labels,colors=[\"red\",\"lime\"])\n",
        "plt.show()"
      ],
      "execution_count": null,
      "outputs": [
        {
          "output_type": "display_data",
          "data": {
            "image/png": "[encoded data removed]",
            "text/plain": [
              "<Figure size 864x720 with 2 Axes>"
            ]
          },
          "metadata": {
            "tags": []
          }
        }
      ]
    },
    {
      "cell_type": "markdown",
      "metadata": {
        "id": "rYNS8vEQ0AHU"
      },
      "source": [
        "Drop the ID column for no future use in prediction"
      ]
    },
    {
      "cell_type": "code",
      "metadata": {
        "id": "GjPpWf4X_JIq"
      },
      "source": [
        "df.drop(columns='ID',inplace=True)"
      ],
      "execution_count": null,
      "outputs": []
    },
    {
      "cell_type": "code",
      "metadata": {
        "colab": {
          "base_uri": "https://localhost:8080/",
          "height": 204
        },
        "id": "dzY0VCe4_sjQ",
        "outputId": "7f7c681a-361b-474f-8e77-49fa567cbb03"
      },
      "source": [
        "df.head()"
      ],
      "execution_count": null,
      "outputs": [
        {
          "output_type": "execute_result",
          "data": {
            "text/html": [
              "<div>\n",
              "<style scoped>\n",
              "    .dataframe tbody tr th:only-of-type {\n",
              "        vertical-align: middle;\n",
              "    }\n",
              "\n",
              "    .dataframe tbody tr th {\n",
              "        vertical-align: top;\n",
              "    }\n",
              "\n",
              "    .dataframe thead th {\n",
              "        text-align: right;\n",
              "    }\n",
              "</style>\n",
              "<table border=\"1\" class=\"dataframe\">\n",
              "  <thead>\n",
              "    <tr style=\"text-align: right;\">\n",
              "      <th></th>\n",
              "      <th>Gender</th>\n",
              "      <th>Age</th>\n",
              "      <th>Region_Code</th>\n",
              "      <th>Occupation</th>\n",
              "      <th>Channel_Code</th>\n",
              "      <th>Vintage</th>\n",
              "      <th>Credit_Product</th>\n",
              "      <th>Avg_Account_Balance</th>\n",
              "      <th>Is_Active</th>\n",
              "      <th>Is_Lead</th>\n",
              "    </tr>\n",
              "  </thead>\n",
              "  <tbody>\n",
              "    <tr>\n",
              "      <th>0</th>\n",
              "      <td>Female</td>\n",
              "      <td>73</td>\n",
              "      <td>RG268</td>\n",
              "      <td>Other</td>\n",
              "      <td>X3</td>\n",
              "      <td>43</td>\n",
              "      <td>No</td>\n",
              "      <td>1045696</td>\n",
              "      <td>No</td>\n",
              "      <td>0</td>\n",
              "    </tr>\n",
              "    <tr>\n",
              "      <th>1</th>\n",
              "      <td>Female</td>\n",
              "      <td>30</td>\n",
              "      <td>RG277</td>\n",
              "      <td>Salaried</td>\n",
              "      <td>X1</td>\n",
              "      <td>32</td>\n",
              "      <td>No</td>\n",
              "      <td>581988</td>\n",
              "      <td>No</td>\n",
              "      <td>0</td>\n",
              "    </tr>\n",
              "    <tr>\n",
              "      <th>2</th>\n",
              "      <td>Female</td>\n",
              "      <td>56</td>\n",
              "      <td>RG268</td>\n",
              "      <td>Self_Employed</td>\n",
              "      <td>X3</td>\n",
              "      <td>26</td>\n",
              "      <td>No</td>\n",
              "      <td>1484315</td>\n",
              "      <td>Yes</td>\n",
              "      <td>0</td>\n",
              "    </tr>\n",
              "    <tr>\n",
              "      <th>3</th>\n",
              "      <td>Male</td>\n",
              "      <td>34</td>\n",
              "      <td>RG270</td>\n",
              "      <td>Salaried</td>\n",
              "      <td>X1</td>\n",
              "      <td>19</td>\n",
              "      <td>No</td>\n",
              "      <td>470454</td>\n",
              "      <td>No</td>\n",
              "      <td>0</td>\n",
              "    </tr>\n",
              "    <tr>\n",
              "      <th>4</th>\n",
              "      <td>Female</td>\n",
              "      <td>30</td>\n",
              "      <td>RG282</td>\n",
              "      <td>Salaried</td>\n",
              "      <td>X1</td>\n",
              "      <td>33</td>\n",
              "      <td>No</td>\n",
              "      <td>886787</td>\n",
              "      <td>No</td>\n",
              "      <td>0</td>\n",
              "    </tr>\n",
              "  </tbody>\n",
              "</table>\n",
              "</div>"
            ],
            "text/plain": [
              "   Gender  Age Region_Code  ... Avg_Account_Balance Is_Active  Is_Lead\n",
              "0  Female   73       RG268  ...             1045696        No        0\n",
              "1  Female   30       RG277  ...              581988        No        0\n",
              "2  Female   56       RG268  ...             1484315       Yes        0\n",
              "3    Male   34       RG270  ...              470454        No        0\n",
              "4  Female   30       RG282  ...              886787        No        0\n",
              "\n",
              "[5 rows x 10 columns]"
            ]
          },
          "metadata": {
            "tags": []
          },
          "execution_count": 66
        }
      ]
    },
    {
      "cell_type": "markdown",
      "metadata": {
        "id": "dcGuO4Hg70TK"
      },
      "source": [
        "**Encoding and HOT Encoding with the Object data type**"
      ]
    },
    {
      "cell_type": "code",
      "metadata": {
        "id": "cymXLJrANLLq"
      },
      "source": [
        "df[\"Credit_Product\"].fillna(\"No_Credit\", inplace = True) "
      ],
      "execution_count": null,
      "outputs": []
    },
    {
      "cell_type": "code",
      "metadata": {
        "id": "qfpYPCkQ7t4t"
      },
      "source": [
        "encoders_nums = {\"Gender\":{\"Female\":1,\"Male\":0},\n",
        "                 \"Is_Active\":{\"Yes\":1,\"No\":0}}\n",
        "\n",
        "df = df.replace(encoders_nums)"
      ],
      "execution_count": null,
      "outputs": []
    },
    {
      "cell_type": "code",
      "metadata": {
        "colab": {
          "base_uri": "https://localhost:8080/",
          "height": 204
        },
        "id": "Qi_PjIHKB59Y",
        "outputId": "4266621f-4ecc-4514-9371-6d402880437d"
      },
      "source": [
        "df.head()"
      ],
      "execution_count": null,
      "outputs": [
        {
          "output_type": "execute_result",
          "data": {
            "text/html": [
              "<div>\n",
              "<style scoped>\n",
              "    .dataframe tbody tr th:only-of-type {\n",
              "        vertical-align: middle;\n",
              "    }\n",
              "\n",
              "    .dataframe tbody tr th {\n",
              "        vertical-align: top;\n",
              "    }\n",
              "\n",
              "    .dataframe thead th {\n",
              "        text-align: right;\n",
              "    }\n",
              "</style>\n",
              "<table border=\"1\" class=\"dataframe\">\n",
              "  <thead>\n",
              "    <tr style=\"text-align: right;\">\n",
              "      <th></th>\n",
              "      <th>Gender</th>\n",
              "      <th>Age</th>\n",
              "      <th>Region_Code</th>\n",
              "      <th>Occupation</th>\n",
              "      <th>Channel_Code</th>\n",
              "      <th>Vintage</th>\n",
              "      <th>Credit_Product</th>\n",
              "      <th>Avg_Account_Balance</th>\n",
              "      <th>Is_Active</th>\n",
              "      <th>Is_Lead</th>\n",
              "    </tr>\n",
              "  </thead>\n",
              "  <tbody>\n",
              "    <tr>\n",
              "      <th>0</th>\n",
              "      <td>1</td>\n",
              "      <td>73</td>\n",
              "      <td>RG268</td>\n",
              "      <td>Other</td>\n",
              "      <td>X3</td>\n",
              "      <td>43</td>\n",
              "      <td>No</td>\n",
              "      <td>1045696</td>\n",
              "      <td>0</td>\n",
              "      <td>0</td>\n",
              "    </tr>\n",
              "    <tr>\n",
              "      <th>1</th>\n",
              "      <td>1</td>\n",
              "      <td>30</td>\n",
              "      <td>RG277</td>\n",
              "      <td>Salaried</td>\n",
              "      <td>X1</td>\n",
              "      <td>32</td>\n",
              "      <td>No</td>\n",
              "      <td>581988</td>\n",
              "      <td>0</td>\n",
              "      <td>0</td>\n",
              "    </tr>\n",
              "    <tr>\n",
              "      <th>2</th>\n",
              "      <td>1</td>\n",
              "      <td>56</td>\n",
              "      <td>RG268</td>\n",
              "      <td>Self_Employed</td>\n",
              "      <td>X3</td>\n",
              "      <td>26</td>\n",
              "      <td>No</td>\n",
              "      <td>1484315</td>\n",
              "      <td>1</td>\n",
              "      <td>0</td>\n",
              "    </tr>\n",
              "    <tr>\n",
              "      <th>3</th>\n",
              "      <td>0</td>\n",
              "      <td>34</td>\n",
              "      <td>RG270</td>\n",
              "      <td>Salaried</td>\n",
              "      <td>X1</td>\n",
              "      <td>19</td>\n",
              "      <td>No</td>\n",
              "      <td>470454</td>\n",
              "      <td>0</td>\n",
              "      <td>0</td>\n",
              "    </tr>\n",
              "    <tr>\n",
              "      <th>4</th>\n",
              "      <td>1</td>\n",
              "      <td>30</td>\n",
              "      <td>RG282</td>\n",
              "      <td>Salaried</td>\n",
              "      <td>X1</td>\n",
              "      <td>33</td>\n",
              "      <td>No</td>\n",
              "      <td>886787</td>\n",
              "      <td>0</td>\n",
              "      <td>0</td>\n",
              "    </tr>\n",
              "  </tbody>\n",
              "</table>\n",
              "</div>"
            ],
            "text/plain": [
              "   Gender  Age Region_Code  ... Avg_Account_Balance Is_Active  Is_Lead\n",
              "0       1   73       RG268  ...             1045696         0        0\n",
              "1       1   30       RG277  ...              581988         0        0\n",
              "2       1   56       RG268  ...             1484315         1        0\n",
              "3       0   34       RG270  ...              470454         0        0\n",
              "4       1   30       RG282  ...              886787         0        0\n",
              "\n",
              "[5 rows x 10 columns]"
            ]
          },
          "metadata": {
            "tags": []
          },
          "execution_count": 69
        }
      ]
    },
    {
      "cell_type": "code",
      "metadata": {
        "id": "TPBSph_oMrtS"
      },
      "source": [
        "# One hot encoding\n",
        "df = pd.get_dummies(df, columns=[\"Region_Code\", \"Occupation\",\"Channel_Code\",\"Credit_Product\"], prefix=[\"Region_Code\", \"Occupation\",\"Channel_Code\",\"Credit_Product\"],drop_first=True)"
      ],
      "execution_count": null,
      "outputs": []
    },
    {
      "cell_type": "code",
      "metadata": {
        "colab": {
          "base_uri": "https://localhost:8080/"
        },
        "id": "E6T9RG5F7t1B",
        "outputId": "b0440c35-f301-4953-ee33-8d6e87e5d1e2"
      },
      "source": [
        "df.columns"
      ],
      "execution_count": null,
      "outputs": [
        {
          "output_type": "execute_result",
          "data": {
            "text/plain": [
              "Index(['Gender', 'Age', 'Vintage', 'Avg_Account_Balance', 'Is_Active',\n",
              "       'Is_Lead', 'Region_Code_RG251', 'Region_Code_RG252',\n",
              "       'Region_Code_RG253', 'Region_Code_RG254', 'Region_Code_RG255',\n",
              "       'Region_Code_RG256', 'Region_Code_RG257', 'Region_Code_RG258',\n",
              "       'Region_Code_RG259', 'Region_Code_RG260', 'Region_Code_RG261',\n",
              "       'Region_Code_RG262', 'Region_Code_RG263', 'Region_Code_RG264',\n",
              "       'Region_Code_RG265', 'Region_Code_RG266', 'Region_Code_RG267',\n",
              "       'Region_Code_RG268', 'Region_Code_RG269', 'Region_Code_RG270',\n",
              "       'Region_Code_RG271', 'Region_Code_RG272', 'Region_Code_RG273',\n",
              "       'Region_Code_RG274', 'Region_Code_RG275', 'Region_Code_RG276',\n",
              "       'Region_Code_RG277', 'Region_Code_RG278', 'Region_Code_RG279',\n",
              "       'Region_Code_RG280', 'Region_Code_RG281', 'Region_Code_RG282',\n",
              "       'Region_Code_RG283', 'Region_Code_RG284', 'Occupation_Other',\n",
              "       'Occupation_Salaried', 'Occupation_Self_Employed', 'Channel_Code_X2',\n",
              "       'Channel_Code_X3', 'Channel_Code_X4', 'Credit_Product_No_Credit',\n",
              "       'Credit_Product_Yes'],\n",
              "      dtype='object')"
            ]
          },
          "metadata": {
            "tags": []
          },
          "execution_count": 71
        }
      ]
    },
    {
      "cell_type": "markdown",
      "metadata": {
        "id": "ZNo5t46_0hQM"
      },
      "source": [
        "# **Model Training**"
      ]
    },
    {
      "cell_type": "markdown",
      "metadata": {
        "id": "JLDSMeEcBcFF"
      },
      "source": [
        "**Now the dataset is Balanced**"
      ]
    },
    {
      "cell_type": "code",
      "metadata": {
        "id": "I6BIpRWmFGes"
      },
      "source": [
        "from sklearn.model_selection import train_test_split\n",
        "# Data Scaling\n",
        "from sklearn.preprocessing import MinMaxScaler\n",
        "# Data Modeling\n",
        "from sklearn.linear_model import LogisticRegression\n",
        "from sklearn.neighbors import KNeighborsClassifier\n",
        "from sklearn.ensemble import RandomForestClassifier\n",
        "from sklearn.tree import DecisionTreeClassifier\n",
        "from sklearn.ensemble import GradientBoostingClassifier\n",
        "from sklearn.neural_network import MLPClassifier\n",
        "from sklearn.metrics import confusion_matrix, accuracy_score, roc_curve, classification_report\n",
        "# Hyperparameter Tuning\n",
        "from sklearn.model_selection import RandomizedSearchCV\n",
        "from sklearn.model_selection import GridSearchCV\n",
        "# Ensembling\n",
        "from mlxtend.classifier import StackingCVClassifier"
      ],
      "execution_count": null,
      "outputs": []
    },
    {
      "cell_type": "code",
      "metadata": {
        "id": "GetEGFJIvf7g"
      },
      "source": [
        "train_y = df['Is_Lead']\n",
        "train_x = df.drop(['Is_Lead'], axis=1)"
      ],
      "execution_count": null,
      "outputs": []
    },
    {
      "cell_type": "code",
      "metadata": {
        "id": "LRUUcTtsiR1T"
      },
      "source": [
        "test_data=pd.read_csv(\"/content/drive/MyDrive/Almabetter DataScience/Job A thon/data/test_mSzZ8RL.csv\")"
      ],
      "execution_count": null,
      "outputs": []
    },
    {
      "cell_type": "code",
      "metadata": {
        "colab": {
          "base_uri": "https://localhost:8080/"
        },
        "id": "g0Qb6aIOihnG",
        "outputId": "358799e2-b07f-4f8f-e5e8-347e1cea4ade"
      },
      "source": [
        "test_data.isnull().sum()"
      ],
      "execution_count": null,
      "outputs": [
        {
          "output_type": "execute_result",
          "data": {
            "text/plain": [
              "ID                         0\n",
              "Gender                     0\n",
              "Age                        0\n",
              "Region_Code                0\n",
              "Occupation                 0\n",
              "Channel_Code               0\n",
              "Vintage                    0\n",
              "Credit_Product         12522\n",
              "Avg_Account_Balance        0\n",
              "Is_Active                  0\n",
              "dtype: int64"
            ]
          },
          "metadata": {
            "tags": []
          },
          "execution_count": 75
        }
      ]
    },
    {
      "cell_type": "code",
      "metadata": {
        "id": "cXoLBtJUXIIe"
      },
      "source": [
        "ID_column = test_data['ID']"
      ],
      "execution_count": null,
      "outputs": []
    },
    {
      "cell_type": "code",
      "metadata": {
        "id": "UlqvcByBnFHx"
      },
      "source": [
        "test_data.drop(columns=\"ID\",inplace=True)"
      ],
      "execution_count": null,
      "outputs": []
    },
    {
      "cell_type": "code",
      "metadata": {
        "id": "h3fCyXS5nE_i"
      },
      "source": [
        "test_data[\"Credit_Product\"].fillna(\"No_Credit\", inplace = True) "
      ],
      "execution_count": null,
      "outputs": []
    },
    {
      "cell_type": "code",
      "metadata": {
        "id": "SUL4Jl4BnE25"
      },
      "source": [
        "encoders_nums = {\"Gender\":{\"Female\":1,\"Male\":0},\n",
        "                 \"Is_Active\":{\"Yes\":1,\"No\":0}\n",
        "                 }\n",
        "\n",
        "test_data = test_data.replace(encoders_nums)"
      ],
      "execution_count": null,
      "outputs": []
    },
    {
      "cell_type": "code",
      "metadata": {
        "id": "91ZvDI4bnNwQ"
      },
      "source": [
        "# One hot encoding\n",
        "test_data = pd.get_dummies(test_data, columns=[\"Region_Code\", \"Occupation\",\"Channel_Code\",\"Credit_Product\"], prefix=[\"Region_Code\", \"Occupation\",\"Channel_Code\",\"Credit_Product\"],drop_first=True)"
      ],
      "execution_count": null,
      "outputs": []
    },
    {
      "cell_type": "code",
      "metadata": {
        "id": "2vwW_3_e1Rrq"
      },
      "source": [
        "scaler = MinMaxScaler()\n",
        "train_x = scaler.fit_transform(train_x)\n",
        "test_x = scaler.transform(test_data)"
      ],
      "execution_count": null,
      "outputs": []
    },
    {
      "cell_type": "markdown",
      "metadata": {
        "id": "0r09JCE_1qTU"
      },
      "source": [
        "## * **Logistic Regressor**"
      ]
    },
    {
      "cell_type": "code",
      "metadata": {
        "colab": {
          "base_uri": "https://localhost:8080/"
        },
        "id": "3ynk6XfDCTaw",
        "outputId": "c86c8a01-b3bc-42dd-f41f-9e3f7c4107b7"
      },
      "source": [
        "m1 = 'LogisticRegression'\n",
        "lr = LogisticRegression(random_state=1, max_iter=1000)\n",
        "model = lr.fit(train_x, train_y)\n",
        "lr_predict = lr.predict(train_x)\n",
        "lr_conf_matrix = confusion_matrix(train_y, lr_predict)\n",
        "lr_acc_score = accuracy_score(train_y, lr_predict)\n",
        "print(\"confussion matrix\")\n",
        "print(lr_conf_matrix)\n",
        "print(\"\\n\")\n",
        "print(\"Accuracy of Logistic Regression:\",lr_acc_score*100,'\\n')\n",
        "print(classification_report(train_y,lr_predict))"
      ],
      "execution_count": null,
      "outputs": [
        {
          "output_type": "stream",
          "text": [
            "confussion matrix\n",
            "[[153634  33803]\n",
            " [ 45267 142170]]\n",
            "\n",
            "\n",
            "Accuracy of Logistic Regression: 78.90757961341677 \n",
            "\n",
            "              precision    recall  f1-score   support\n",
            "\n",
            "           0       0.77      0.82      0.80    187437\n",
            "           1       0.81      0.76      0.78    187437\n",
            "\n",
            "    accuracy                           0.79    374874\n",
            "   macro avg       0.79      0.79      0.79    374874\n",
            "weighted avg       0.79      0.79      0.79    374874\n",
            "\n"
          ],
          "name": "stdout"
        }
      ]
    },
    {
      "cell_type": "code",
      "metadata": {
        "colab": {
          "base_uri": "https://localhost:8080/"
        },
        "id": "HDqFn_fOC2uO",
        "outputId": "2cc492d0-a2f1-4b98-a621-f50490392d8b"
      },
      "source": [
        "from sklearn.metrics import roc_auc_score\n",
        "roc_auc_score(train_y, lr_predict)"
      ],
      "execution_count": null,
      "outputs": [
        {
          "output_type": "execute_result",
          "data": {
            "text/plain": [
              "0.7890757961341678"
            ]
          },
          "metadata": {
            "tags": []
          },
          "execution_count": 83
        }
      ]
    },
    {
      "cell_type": "markdown",
      "metadata": {
        "id": "-AOEMrJd2a_6"
      },
      "source": [
        "**Linear Regression Test Data Predicton**"
      ]
    },
    {
      "cell_type": "code",
      "metadata": {
        "id": "9SX9R-dI2kUO"
      },
      "source": [
        "lr_predict_test = lr.predict(test_x)"
      ],
      "execution_count": null,
      "outputs": []
    },
    {
      "cell_type": "code",
      "metadata": {
        "id": "xOsWUS4V2uhm"
      },
      "source": [
        "df_new = pd.DataFrame(columns=[\"ID\", \"Is_Lead\"])\n",
        "df_new[\"ID\"] = ID_column\n",
        "df_new[\"Is_Lead\"] = lr_predict_test"
      ],
      "execution_count": null,
      "outputs": []
    },
    {
      "cell_type": "code",
      "metadata": {
        "colab": {
          "base_uri": "https://localhost:8080/"
        },
        "id": "hBb0_FwQ23f8",
        "outputId": "59563c41-36ba-4732-b3db-ff57c9b01359"
      },
      "source": [
        "df_new['Is_Lead'].value_counts()"
      ],
      "execution_count": null,
      "outputs": [
        {
          "output_type": "execute_result",
          "data": {
            "text/plain": [
              "0    72012\n",
              "1    33300\n",
              "Name: Is_Lead, dtype: int64"
            ]
          },
          "metadata": {
            "tags": []
          },
          "execution_count": 89
        }
      ]
    },
    {
      "cell_type": "markdown",
      "metadata": {
        "id": "2fMtK5Wr2B0q"
      },
      "source": [
        "## * **Random Forest**"
      ]
    },
    {
      "cell_type": "code",
      "metadata": {
        "colab": {
          "base_uri": "https://localhost:8080/"
        },
        "id": "RcivIg1oFpdS",
        "outputId": "c3a14c65-ec99-4e71-c5fe-79307af573a9"
      },
      "source": [
        "m3 = 'Random Forest Classfier'\n",
        "rf = RandomForestClassifier(n_estimators=200, random_state=0,max_depth=12)\n",
        "rf.fit(train_x,train_y)\n",
        "rf_predicted = rf.predict(train_x)\n",
        "rf_conf_matrix = confusion_matrix(train_y, rf_predicted)\n",
        "rf_acc_score = accuracy_score(train_y, rf_predicted)\n",
        "print(\"confussion matrix\")\n",
        "print(rf_conf_matrix)\n",
        "print(\"\\n\")\n",
        "print(\"Accuracy of Random Forest:\",rf_acc_score*100,'\\n')\n",
        "print(classification_report(train_y,rf_predicted))"
      ],
      "execution_count": null,
      "outputs": [
        {
          "output_type": "stream",
          "text": [
            "confussion matrix\n",
            "[[159006  28431]\n",
            " [ 40100 147337]]\n",
            "\n",
            "\n",
            "Accuracy of Random Forest: 81.71892422520634 \n",
            "\n",
            "              precision    recall  f1-score   support\n",
            "\n",
            "           0       0.80      0.85      0.82    187437\n",
            "           1       0.84      0.79      0.81    187437\n",
            "\n",
            "    accuracy                           0.82    374874\n",
            "   macro avg       0.82      0.82      0.82    374874\n",
            "weighted avg       0.82      0.82      0.82    374874\n",
            "\n"
          ],
          "name": "stdout"
        }
      ]
    },
    {
      "cell_type": "code",
      "metadata": {
        "colab": {
          "base_uri": "https://localhost:8080/"
        },
        "id": "Pfbl7uQHpd2B",
        "outputId": "3cbba944-2fca-428a-e8c7-61735630a03a"
      },
      "source": [
        "from sklearn.metrics import roc_auc_score\n",
        "roc_auc_score(train_y, rf_predicted)"
      ],
      "execution_count": null,
      "outputs": [
        {
          "output_type": "execute_result",
          "data": {
            "text/plain": [
              "0.8171892422520634"
            ]
          },
          "metadata": {
            "tags": []
          },
          "execution_count": 34
        }
      ]
    },
    {
      "cell_type": "markdown",
      "metadata": {
        "id": "wS6kHRIwgzJJ"
      },
      "source": [
        "**Random Forest Test data prediction**"
      ]
    },
    {
      "cell_type": "code",
      "metadata": {
        "id": "2RL4fIJKg2jS"
      },
      "source": [
        "rf_predicted_test = rf.predict(test_x)"
      ],
      "execution_count": null,
      "outputs": []
    },
    {
      "cell_type": "code",
      "metadata": {
        "id": "SqjiefYbhQ17"
      },
      "source": [
        "df_new = pd.DataFrame(columns=[\"ID\", \"Is_Lead\"])\n",
        "df_new[\"ID\"] = ID_column\n",
        "df_new[\"Is_Lead\"] = rf_predicted_test"
      ],
      "execution_count": null,
      "outputs": []
    },
    {
      "cell_type": "code",
      "metadata": {
        "colab": {
          "base_uri": "https://localhost:8080/"
        },
        "id": "5-C5rvkfcqWE",
        "outputId": "f0687962-a391-42f8-e93a-dbe25880b721"
      },
      "source": [
        "df_new['Is_Lead'].value_counts()"
      ],
      "execution_count": null,
      "outputs": [
        {
          "output_type": "execute_result",
          "data": {
            "text/plain": [
              "0    73701\n",
              "1    31611\n",
              "Name: Is_Lead, dtype: int64"
            ]
          },
          "metadata": {
            "tags": []
          },
          "execution_count": 37
        }
      ]
    },
    {
      "cell_type": "markdown",
      "metadata": {
        "id": "qMvHjTm43PBm"
      },
      "source": [
        "**Write the data Into the file which is goin for the submission**"
      ]
    },
    {
      "cell_type": "code",
      "metadata": {
        "id": "3c0A3PBtYyBl"
      },
      "source": [
        "df_new.to_csv(\"/content/drive/MyDrive/Almabetter DataScience/Job A thon/data/Submission_demo.csv\",index=False)"
      ],
      "execution_count": null,
      "outputs": []
    },
    {
      "cell_type": "markdown",
      "metadata": {
        "id": "ZHiXbtMj3W7F"
      },
      "source": [
        "**Inference:**\n",
        "\n",
        "* I used the Random forest algorithm which is working good for the training data set \n",
        "* I found the good auc_roc score 81% for the training data set.\n",
        "* I also found the precision of approximate 82 and recall also approximate 82\n"
      ]
    },
    {
      "cell_type": "markdown",
      "metadata": {
        "id": "zHnqoBea6TBo"
      },
      "source": [
        "**Try with some other parameters of the Random Forest**"
      ]
    },
    {
      "cell_type": "code",
      "metadata": {
        "colab": {
          "base_uri": "https://localhost:8080/"
        },
        "id": "Y0EwI57C9B3G",
        "outputId": "de4612e0-5ca7-40c8-b3bb-9945ed9236a5"
      },
      "source": [
        "randomForestAlgo = RandomForestClassifier()\n",
        "param = { 'bootstrap': [False],\n",
        "          'max_depth': [100],\n",
        "          'max_features': ['auto'],\n",
        "          'min_samples_leaf': [1],\n",
        "          'min_samples_split': [2],\n",
        "          'n_estimators': [400]}\n",
        "\n",
        "\n",
        "grid = GridSearchCV(randomForestAlgo, param, refit = True, verbose = 3,n_jobs=-2) \n",
        "   \n",
        "\n",
        "grid.fit(train_x, train_y) \n"
      ],
      "execution_count": null,
      "outputs": [
        {
          "output_type": "stream",
          "text": [
            "Fitting 5 folds for each of 1 candidates, totalling 5 fits\n",
            "[CV] bootstrap=False, max_depth=100, max_features=auto, min_samples_leaf=1, min_samples_split=2, n_estimators=400 \n"
          ],
          "name": "stdout"
        },
        {
          "output_type": "stream",
          "text": [
            "[Parallel(n_jobs=-2)]: Using backend SequentialBackend with 1 concurrent workers.\n"
          ],
          "name": "stderr"
        },
        {
          "output_type": "stream",
          "text": [
            "[CV]  bootstrap=False, max_depth=100, max_features=auto, min_samples_leaf=1, min_samples_split=2, n_estimators=400, score=0.943, total= 6.5min\n",
            "[CV] bootstrap=False, max_depth=100, max_features=auto, min_samples_leaf=1, min_samples_split=2, n_estimators=400 \n"
          ],
          "name": "stdout"
        },
        {
          "output_type": "stream",
          "text": [
            "[Parallel(n_jobs=-2)]: Done   1 out of   1 | elapsed:  6.5min remaining:    0.0s\n"
          ],
          "name": "stderr"
        },
        {
          "output_type": "stream",
          "text": [
            "[CV]  bootstrap=False, max_depth=100, max_features=auto, min_samples_leaf=1, min_samples_split=2, n_estimators=400, score=0.943, total= 6.3min\n",
            "[CV] bootstrap=False, max_depth=100, max_features=auto, min_samples_leaf=1, min_samples_split=2, n_estimators=400 \n"
          ],
          "name": "stdout"
        },
        {
          "output_type": "stream",
          "text": [
            "[Parallel(n_jobs=-2)]: Done   2 out of   2 | elapsed: 12.9min remaining:    0.0s\n"
          ],
          "name": "stderr"
        },
        {
          "output_type": "stream",
          "text": [
            "[CV]  bootstrap=False, max_depth=100, max_features=auto, min_samples_leaf=1, min_samples_split=2, n_estimators=400, score=0.940, total= 6.0min\n",
            "[CV] bootstrap=False, max_depth=100, max_features=auto, min_samples_leaf=1, min_samples_split=2, n_estimators=400 \n",
            "[CV]  bootstrap=False, max_depth=100, max_features=auto, min_samples_leaf=1, min_samples_split=2, n_estimators=400, score=0.940, total= 5.6min\n",
            "[CV] bootstrap=False, max_depth=100, max_features=auto, min_samples_leaf=1, min_samples_split=2, n_estimators=400 \n",
            "[CV]  bootstrap=False, max_depth=100, max_features=auto, min_samples_leaf=1, min_samples_split=2, n_estimators=400, score=0.942, total= 5.6min\n"
          ],
          "name": "stdout"
        },
        {
          "output_type": "stream",
          "text": [
            "[Parallel(n_jobs=-2)]: Done   5 out of   5 | elapsed: 30.4min finished\n"
          ],
          "name": "stderr"
        },
        {
          "output_type": "execute_result",
          "data": {
            "text/plain": [
              "GridSearchCV(cv=None, error_score=nan,\n",
              "             estimator=RandomForestClassifier(bootstrap=True, ccp_alpha=0.0,\n",
              "                                              class_weight=None,\n",
              "                                              criterion='gini', max_depth=None,\n",
              "                                              max_features='auto',\n",
              "                                              max_leaf_nodes=None,\n",
              "                                              max_samples=None,\n",
              "                                              min_impurity_decrease=0.0,\n",
              "                                              min_impurity_split=None,\n",
              "                                              min_samples_leaf=1,\n",
              "                                              min_samples_split=2,\n",
              "                                              min_weight_fraction_leaf=0.0,\n",
              "                                              n_estimators=100, n_jobs=None,\n",
              "                                              oob_score=False,\n",
              "                                              random_state=None, verbose=0,\n",
              "                                              warm_start=False),\n",
              "             iid='deprecated', n_jobs=-2,\n",
              "             param_grid={'bootstrap': [False], 'max_depth': [100],\n",
              "                         'max_features': ['auto'], 'min_samples_leaf': [1],\n",
              "                         'min_samples_split': [2], 'n_estimators': [400]},\n",
              "             pre_dispatch='2*n_jobs', refit=True, return_train_score=False,\n",
              "             scoring=None, verbose=3)"
            ]
          },
          "metadata": {
            "tags": []
          },
          "execution_count": 102
        }
      ]
    },
    {
      "cell_type": "code",
      "metadata": {
        "id": "HfnMH4lOPvBQ"
      },
      "source": [
        "param=grid.best_params_"
      ],
      "execution_count": null,
      "outputs": []
    },
    {
      "cell_type": "code",
      "metadata": {
        "colab": {
          "base_uri": "https://localhost:8080/"
        },
        "id": "FLSLvPW8PzrQ",
        "outputId": "9947d828-c246-4edb-d363-a53d54464437"
      },
      "source": [
        "param"
      ],
      "execution_count": null,
      "outputs": [
        {
          "output_type": "execute_result",
          "data": {
            "text/plain": [
              "{'bootstrap': False,\n",
              " 'max_depth': 100,\n",
              " 'max_features': 'auto',\n",
              " 'min_samples_leaf': 1,\n",
              " 'min_samples_split': 2,\n",
              " 'n_estimators': 400}"
            ]
          },
          "metadata": {
            "tags": []
          },
          "execution_count": 104
        }
      ]
    },
    {
      "cell_type": "code",
      "metadata": {
        "colab": {
          "base_uri": "https://localhost:8080/"
        },
        "id": "GZdcNuIKP2qW",
        "outputId": "6de524c2-5244-44e2-9aa9-99b35e69bc3b"
      },
      "source": [
        "rf_predicted_train = grid.predict(train_x)\n",
        "rf_best_conf_matrix = confusion_matrix(train_y, rf_predicted_train)\n",
        "rf_best_acc_score = accuracy_score(train_y, rf_predicted_train)\n",
        "print(\"confussion matrix\")\n",
        "print(rf_best_conf_matrix)\n",
        "print(\"\\n\")\n",
        "print(\"Accuracy of Random Forest best estimator:\",rf_best_acc_score*100,'\\n')\n",
        "print(classification_report(train_y,rf_predicted_train))"
      ],
      "execution_count": null,
      "outputs": [
        {
          "output_type": "stream",
          "text": [
            "confussion matrix\n",
            "[[187435      2]\n",
            " [     0 187437]]\n",
            "\n",
            "\n",
            "Accuracy of Random Forest best estimator: 99.99946648740644 \n",
            "\n",
            "              precision    recall  f1-score   support\n",
            "\n",
            "           0       1.00      1.00      1.00    187437\n",
            "           1       1.00      1.00      1.00    187437\n",
            "\n",
            "    accuracy                           1.00    374874\n",
            "   macro avg       1.00      1.00      1.00    374874\n",
            "weighted avg       1.00      1.00      1.00    374874\n",
            "\n"
          ],
          "name": "stdout"
        }
      ]
    },
    {
      "cell_type": "code",
      "metadata": {
        "id": "3nahGUqA-B12"
      },
      "source": [
        "rf_best_predicted_test = grid.predict(test_x)"
      ],
      "execution_count": null,
      "outputs": []
    },
    {
      "cell_type": "code",
      "metadata": {
        "id": "KZCU-9daQGfu"
      },
      "source": [
        "df_new = pd.DataFrame(columns=[\"ID\", \"Is_Lead\"])\n",
        "df_new[\"ID\"] = ID_column\n",
        "df_new[\"Is_Lead\"] = rf_best_predicted_test"
      ],
      "execution_count": null,
      "outputs": []
    },
    {
      "cell_type": "code",
      "metadata": {
        "colab": {
          "base_uri": "https://localhost:8080/"
        },
        "id": "JSVIUGYcRcdR",
        "outputId": "ea16f744-b8fe-4850-9c4d-b19706b8b8b5"
      },
      "source": [
        "df_new['Is_Lead'].value_counts()"
      ],
      "execution_count": null,
      "outputs": [
        {
          "output_type": "execute_result",
          "data": {
            "text/plain": [
              "0    85673\n",
              "1    19639\n",
              "Name: Is_Lead, dtype: int64"
            ]
          },
          "metadata": {
            "tags": []
          },
          "execution_count": 115
        }
      ]
    },
    {
      "cell_type": "code",
      "metadata": {
        "id": "3MVObKJGRgjS"
      },
      "source": [
        "df_new.to_csv(\"/content/drive/MyDrive/Almabetter DataScience/Job A thon/data/Submission_demo.csv\",index=False)"
      ],
      "execution_count": null,
      "outputs": []
    },
    {
      "cell_type": "markdown",
      "metadata": {
        "id": "F0wwi6NLVCeU"
      },
      "source": [
        "I used the parameters for the Random forest but it gives me good accuracy for the training data but less accuracy in the test validation."
      ]
    },
    {
      "cell_type": "markdown",
      "metadata": {
        "id": "kO0KztFmVpZV"
      },
      "source": [
        "**Inference:**\n",
        "\n",
        "I used some of the algorithm but the Random forest gives me the good accuracy for the test data.\n",
        "\n",
        "Thank you!"
      ]
    }
  ]
}